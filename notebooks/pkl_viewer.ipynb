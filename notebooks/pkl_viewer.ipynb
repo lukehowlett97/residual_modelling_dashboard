{
 "cells": [
  {
   "cell_type": "code",
   "execution_count": 1,
   "metadata": {},
   "outputs": [],
   "source": [
    "import numpy as np\n",
    "import pandas as pd\n",
    "from pathlib import Path"
   ]
  },
  {
   "cell_type": "code",
   "execution_count": 3,
   "metadata": {},
   "outputs": [
    {
     "name": "stdout",
     "output_type": "stream",
     "text": [
      "Index(['epoch', 'sys', 'num', 'iono_mod', 'iono_est', 'res_oc1', 'reg_trop',\n",
      "       'reg_iono', 'ppprtk1', 'iono_mod_diff', 'iono_mod_rolling_mean',\n",
      "       'iono_mod_rolling_std', 'iono_mod_sg_filter', 'iono_est_diff',\n",
      "       'iono_est_rolling_mean', 'iono_est_rolling_std', 'iono_est_sg_filter',\n",
      "       'res_oc1_diff', 'res_oc1_rolling_mean', 'res_oc1_rolling_std',\n",
      "       'res_oc1_sg_filter', 'reg_trop_diff', 'reg_trop_rolling_mean',\n",
      "       'reg_trop_rolling_std', 'reg_trop_sg_filter', 'reg_iono_diff',\n",
      "       'reg_iono_rolling_mean', 'reg_iono_rolling_std', 'reg_iono_sg_filter',\n",
      "       'ppprtk1_diff', 'ppprtk1_rolling_mean', 'ppprtk1_rolling_std',\n",
      "       'ppprtk1_sg_filter'],\n",
      "      dtype='object')\n"
     ]
    }
   ],
   "source": [
    "pkl_path = Path(\"/home/methodman/Projects/data/processed/processed_raw/2024/002/CMDN/proc_res_2024_002_CMDN_G06.pkl\")\n",
    "df = pd.read_pickle(pkl_path)\n",
    "\n",
    "# print(df.head())\n",
    "print(df.columns)"
   ]
  }
 ],
 "metadata": {
  "kernelspec": {
   "display_name": "Python 3",
   "language": "python",
   "name": "python3"
  },
  "language_info": {
   "codemirror_mode": {
    "name": "ipython",
    "version": 3
   },
   "file_extension": ".py",
   "mimetype": "text/x-python",
   "name": "python",
   "nbconvert_exporter": "python",
   "pygments_lexer": "ipython3",
   "version": "3.11.9"
  }
 },
 "nbformat": 4,
 "nbformat_minor": 2
}
